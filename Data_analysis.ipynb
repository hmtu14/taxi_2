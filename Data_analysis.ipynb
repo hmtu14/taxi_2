{
 "cells": [
  {
   "cell_type": "code",
   "execution_count": 7,
   "metadata": {},
   "outputs": [],
   "source": [
    "import csv\n",
    "import numpy as np"
   ]
  },
  {
   "cell_type": "code",
   "execution_count": 2,
   "metadata": {},
   "outputs": [],
   "source": [
    "data = []\n",
    "with open(\"./data/2016-03-21_2016-04-24.csv\", \"r\") as inputf:\n",
    "    reader = csv.reader(inputf)\n",
    "    for line in reader:\n",
    "        data.append(line)"
   ]
  },
  {
   "cell_type": "code",
   "execution_count": 4,
   "metadata": {},
   "outputs": [
    {
     "name": "stdout",
     "output_type": "stream",
     "text": [
      "3964314\n"
     ]
    }
   ],
   "source": [
    "print len(data)"
   ]
  },
  {
   "cell_type": "code",
   "execution_count": 23,
   "metadata": {},
   "outputs": [],
   "source": [
    "latArray = np.array([float(i[2]) for i in data])\n",
    "lngArray = np.array([float(i[3]) for i in data])"
   ]
  },
  {
   "cell_type": "code",
   "execution_count": 27,
   "metadata": {},
   "outputs": [],
   "source": [
    "dtype = [(\"lat\", float), (\"lng\", float)]\n",
    "values = [(float(i[2]), float(i[3])) for i in data]\n",
    "GPSArray = np.array(values, dtype= dtype)"
   ]
  },
  {
   "cell_type": "code",
   "execution_count": 102,
   "metadata": {},
   "outputs": [],
   "source": [
    "values_filter = [(float(i[2]), float(i[3])) for i in data]\n",
    "GPSArray_filter = np.array(values_filter, dtype= dtype)\n",
    "sorted_lng_GPS_filter = np.sort(GPSArray_filter, order=\"lng\")"
   ]
  },
  {
   "cell_type": "code",
   "execution_count": 115,
   "metadata": {},
   "outputs": [],
   "source": [
    "#Sort lat:\n",
    "sorted_lat_GPS = np.sort(GPSArray, order=\"lat\")\n",
    "#sort lng:\n",
    "sorted_lng_GPS = np.sort(GPSArray, order=\"lng\")"
   ]
  },
  {
   "cell_type": "code",
   "execution_count": 125,
   "metadata": {},
   "outputs": [
    {
     "name": "stdout",
     "output_type": "stream",
     "text": [
      "10.6423333333333\n",
      "10.9663333333333\n",
      "106.538833333333\n",
      "106.825\n"
     ]
    }
   ],
   "source": [
    "#Get threshold:\n",
    "threshold = 4000\n",
    "min_lat = sorted_lat_GPS[threshold][0]\n",
    "max_lat = sorted_lat_GPS[-threshold:][0][0]\n",
    "print min_lat\n",
    "print max_lat\n",
    "min_lng = sorted_lng_GPS[threshold][1]\n",
    "max_lng = sorted_lng_GPS[-threshold:][0][1]\n",
    "print min_lng\n",
    "print max_lng"
   ]
  },
  {
   "cell_type": "code",
   "execution_count": 124,
   "metadata": {},
   "outputs": [],
   "source": [
    "#Save outline to file:\n",
    "outline = np.concatenate((sorted_lat_GPS[0:threshold], sorted_lat_GPS[-threshold:], sorted_lng_GPS[0:threshold], sorted_lng_GPS[-threshold:]))\n",
    "np.savetxt(\"GPS.csv\", outline, delimiter=\",\", fmt='%1.7f')"
   ]
  },
  {
   "cell_type": "code",
   "execution_count": 127,
   "metadata": {},
   "outputs": [],
   "source": [
    "#remove outline\n",
    "data_filtered = []\n",
    "for line in data:\n",
    "    #check in area:\n",
    "    c_lat = float(line[2])\n",
    "    c_lng = float(line[3])\n",
    "    if c_lat <= max_lat and c_lat >= min_lat and c_lng >= min_lng and c_lng <= max_lng:\n",
    "        data_filtered.append(line)"
   ]
  },
  {
   "cell_type": "code",
   "execution_count": 130,
   "metadata": {},
   "outputs": [
    {
     "name": "stdout",
     "output_type": "stream",
     "text": [
      "12853\n"
     ]
    }
   ],
   "source": [
    "print len(data) - len(data_filtered)"
   ]
  },
  {
   "cell_type": "code",
   "execution_count": 76,
   "metadata": {},
   "outputs": [
    {
     "name": "stdout",
     "output_type": "stream",
     "text": [
      "3964314\n"
     ]
    }
   ],
   "source": [
    "print len(sorted_lat_GPS_1000)"
   ]
  },
  {
   "cell_type": "code",
   "execution_count": 105,
   "metadata": {},
   "outputs": [],
   "source": [
    "import matplotlib.pyplot as plt"
   ]
  },
  {
   "cell_type": "code",
   "execution_count": 114,
   "metadata": {},
   "outputs": [
    {
     "data": {
      "image/png": "[encoded data removed]",
      "text/plain": [
       "<matplotlib.figure.Figure at 0x7f6208850210>"
      ]
     },
     "metadata": {},
     "output_type": "display_data"
    }
   ],
   "source": [
    "bins = np.linspace(0, 10, 100)\n",
    "\n",
    "plt.hist(latArray, bins)\n",
    "plt.title(\"Gaussian Histogram\")\n",
    "plt.xlabel(\"Value\")\n",
    "plt.ylabel(\"Frequency\")\n",
    "\n",
    "fig = plt.gcf()"
   ]
  },
  {
   "cell_type": "code",
   "execution_count": null,
   "metadata": {},
   "outputs": [],
   "source": []
  }
 ],
 "metadata": {
  "kernelspec": {
   "display_name": "Python 2",
   "language": "python",
   "name": "python2"
  },
  "language_info": {
   "codemirror_mode": {
    "name": "ipython",
    "version": 2
   },
   "file_extension": ".py",
   "mimetype": "text/x-python",
   "name": "python",
   "nbconvert_exporter": "python",
   "pygments_lexer": "ipython2",
   "version": "2.7.12"
  }
 },
 "nbformat": 4,
 "nbformat_minor": 2
}
